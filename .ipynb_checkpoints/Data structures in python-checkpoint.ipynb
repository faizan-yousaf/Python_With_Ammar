{
 "cells": [
  {
   "cell_type": "markdown",
   "id": "5011a078",
   "metadata": {},
   "source": [
    "# Basic data structures in Python\n",
    "\n",
    "- tuple <br>\n",
    "- list  <br>\n",
    "- dictionaries  <br>\n",
    "- set  <br>"
   ]
  },
  {
   "cell_type": "markdown",
   "id": "a5067d3d",
   "metadata": {},
   "source": [
    "## 1: tuple\n",
    "\n",
    "- ordered collection of elements <br>\n",
    "- use round () brackets/paranthesis <br>\n",
    "- different types of elements can be stored <br>\n",
    "- once elements are stored , they cannot be changed (immutatable) <br>\n"
   ]
  },
  {
   "cell_type": "code",
   "execution_count": 2,
   "id": "8792b182",
   "metadata": {},
   "outputs": [
    {
     "data": {
      "text/plain": [
       "('faizan', 3.42, True, 5)"
      ]
     },
     "execution_count": 2,
     "metadata": {},
     "output_type": "execute_result"
    }
   ],
   "source": [
    "tup1 = ('faizan', 3.42, True, 5)\n",
    "tup1"
   ]
  },
  {
   "cell_type": "code",
   "execution_count": 3,
   "id": "101a4321",
   "metadata": {},
   "outputs": [
    {
     "data": {
      "text/plain": [
       "tuple"
      ]
     },
     "execution_count": 3,
     "metadata": {},
     "output_type": "execute_result"
    }
   ],
   "source": [
    "type(tup1)"
   ]
  },
  {
   "cell_type": "code",
   "execution_count": 4,
   "id": "92ec1fa9",
   "metadata": {},
   "outputs": [
    {
     "data": {
      "text/plain": [
       "4"
      ]
     },
     "execution_count": 4,
     "metadata": {},
     "output_type": "execute_result"
    }
   ],
   "source": [
    "len(tup1)"
   ]
  },
  {
   "cell_type": "code",
   "execution_count": 5,
   "id": "aa2088ac",
   "metadata": {},
   "outputs": [
    {
     "data": {
      "text/plain": [
       "('faizan', 3.42, True, 5, 'faizan', 3.42, True, 5)"
      ]
     },
     "execution_count": 5,
     "metadata": {},
     "output_type": "execute_result"
    }
   ],
   "source": [
    "tup1*2"
   ]
  },
  {
   "cell_type": "markdown",
   "id": "fea7d555",
   "metadata": {},
   "source": [
    "### Indexing in tuples"
   ]
  },
  {
   "cell_type": "code",
   "execution_count": 10,
   "id": "ca2ef9b5",
   "metadata": {},
   "outputs": [
    {
     "data": {
      "text/plain": [
       "('faizan', 3.42, True, 5)"
      ]
     },
     "execution_count": 10,
     "metadata": {},
     "output_type": "execute_result"
    }
   ],
   "source": [
    "tup1 = ('faizan', 3.42, True, 5)\n",
    "tup1"
   ]
  },
  {
   "cell_type": "code",
   "execution_count": 9,
   "id": "eb6f7633",
   "metadata": {
    "scrolled": true
   },
   "outputs": [
    {
     "data": {
      "text/plain": [
       "'faizan'"
      ]
     },
     "execution_count": 9,
     "metadata": {},
     "output_type": "execute_result"
    }
   ],
   "source": [
    "tup1[0]"
   ]
  },
  {
   "cell_type": "code",
   "execution_count": 6,
   "id": "9407f6f2",
   "metadata": {},
   "outputs": [
    {
     "data": {
      "text/plain": [
       "3.42"
      ]
     },
     "execution_count": 6,
     "metadata": {},
     "output_type": "execute_result"
    }
   ],
   "source": [
    "tup1[1]"
   ]
  },
  {
   "cell_type": "code",
   "execution_count": 8,
   "id": "45be4b1c",
   "metadata": {},
   "outputs": [
    {
     "data": {
      "text/plain": [
       "True"
      ]
     },
     "execution_count": 8,
     "metadata": {},
     "output_type": "execute_result"
    }
   ],
   "source": [
    "tup1[2]"
   ]
  },
  {
   "cell_type": "code",
   "execution_count": 7,
   "id": "94d92758",
   "metadata": {},
   "outputs": [
    {
     "data": {
      "text/plain": [
       "5"
      ]
     },
     "execution_count": 7,
     "metadata": {},
     "output_type": "execute_result"
    }
   ],
   "source": [
    "tup1[3]"
   ]
  },
  {
   "cell_type": "code",
   "execution_count": 54,
   "id": "5c3e3662",
   "metadata": {},
   "outputs": [
    {
     "ename": "IndexError",
     "evalue": "tuple index out of range",
     "output_type": "error",
     "traceback": [
      "\u001b[1;31m---------------------------------------------------------------------------\u001b[0m",
      "\u001b[1;31mIndexError\u001b[0m                                Traceback (most recent call last)",
      "Input \u001b[1;32mIn [54]\u001b[0m, in \u001b[0;36m<cell line: 1>\u001b[1;34m()\u001b[0m\n\u001b[1;32m----> 1\u001b[0m \u001b[43mtup1\u001b[49m\u001b[43m[\u001b[49m\u001b[38;5;241;43m4\u001b[39;49m\u001b[43m]\u001b[49m\n",
      "\u001b[1;31mIndexError\u001b[0m: tuple index out of range"
     ]
    }
   ],
   "source": [
    "tup1[4]  #it will immidiately show an error that the entered index does'nt exist"
   ]
  },
  {
   "cell_type": "markdown",
   "id": "d3e35ea1",
   "metadata": {},
   "source": [
    "#### start = include\n",
    "#### end = exclude or the last index is eliminated!"
   ]
  },
  {
   "cell_type": "code",
   "execution_count": 13,
   "id": "b473dc74",
   "metadata": {},
   "outputs": [
    {
     "data": {
      "text/plain": [
       "('faizan',)"
      ]
     },
     "execution_count": 13,
     "metadata": {},
     "output_type": "execute_result"
    }
   ],
   "source": [
    "tup1[0:1]"
   ]
  },
  {
   "cell_type": "code",
   "execution_count": 14,
   "id": "6be53f0d",
   "metadata": {},
   "outputs": [
    {
     "data": {
      "text/plain": [
       "('faizan', 3.42)"
      ]
     },
     "execution_count": 14,
     "metadata": {},
     "output_type": "execute_result"
    }
   ],
   "source": [
    "tup1[0:2]"
   ]
  },
  {
   "cell_type": "code",
   "execution_count": 11,
   "id": "b25efbd3",
   "metadata": {},
   "outputs": [
    {
     "data": {
      "text/plain": [
       "('faizan', 3.42, True)"
      ]
     },
     "execution_count": 11,
     "metadata": {},
     "output_type": "execute_result"
    }
   ],
   "source": [
    "tup1[0:3]"
   ]
  },
  {
   "cell_type": "code",
   "execution_count": 12,
   "id": "0638cc98",
   "metadata": {},
   "outputs": [
    {
     "data": {
      "text/plain": [
       "('faizan', 3.42, True, 5)"
      ]
     },
     "execution_count": 12,
     "metadata": {},
     "output_type": "execute_result"
    }
   ],
   "source": [
    "tup1[0:4]"
   ]
  },
  {
   "cell_type": "code",
   "execution_count": 62,
   "id": "db85cbc2",
   "metadata": {},
   "outputs": [
    {
     "data": {
      "text/plain": [
       "4"
      ]
     },
     "execution_count": 62,
     "metadata": {},
     "output_type": "execute_result"
    }
   ],
   "source": [
    "len(tup1)"
   ]
  },
  {
   "cell_type": "code",
   "execution_count": 15,
   "id": "e263b8d1",
   "metadata": {},
   "outputs": [
    {
     "data": {
      "text/plain": [
       "('faizan', 3.42, True, 5)"
      ]
     },
     "execution_count": 15,
     "metadata": {},
     "output_type": "execute_result"
    }
   ],
   "source": [
    "tup1[0:5]    #if we write index number which exceeds the last index number,it will still show all the elements of the tuple"
   ]
  },
  {
   "cell_type": "code",
   "execution_count": 17,
   "id": "9caa8476",
   "metadata": {},
   "outputs": [
    {
     "data": {
      "text/plain": [
       "('Hamza', 3.34, False, 6)"
      ]
     },
     "execution_count": 17,
     "metadata": {},
     "output_type": "execute_result"
    }
   ],
   "source": [
    "tup2 = ('Hamza', 3.34, False, 6)\n",
    "tup2"
   ]
  },
  {
   "cell_type": "code",
   "execution_count": 18,
   "id": "2b29ec7f",
   "metadata": {},
   "outputs": [
    {
     "data": {
      "text/plain": [
       "('faizan', 3.42, True, 5, 'Hamza', 3.34, False, 6)"
      ]
     },
     "execution_count": 18,
     "metadata": {},
     "output_type": "execute_result"
    }
   ],
   "source": [
    "#concatination (adding 2 or <2 tuples)\n",
    "tup1 + tup2"
   ]
  },
  {
   "cell_type": "code",
   "execution_count": 19,
   "id": "198d7210",
   "metadata": {},
   "outputs": [
    {
     "data": {
      "text/plain": [
       "('faizan',\n",
       " 3.42,\n",
       " True,\n",
       " 5,\n",
       " 'faizan',\n",
       " 3.42,\n",
       " True,\n",
       " 5,\n",
       " 'faizan',\n",
       " 3.42,\n",
       " True,\n",
       " 5,\n",
       " 'Hamza',\n",
       " 3.34,\n",
       " False,\n",
       " 6)"
      ]
     },
     "execution_count": 19,
     "metadata": {},
     "output_type": "execute_result"
    }
   ],
   "source": [
    "#concatination and repeation\n",
    "tup1*3 + tup2"
   ]
  },
  {
   "cell_type": "code",
   "execution_count": 32,
   "id": "fafa24ff",
   "metadata": {},
   "outputs": [
    {
     "data": {
      "text/plain": [
       "(60, 43, 323, 56, 45, 78, 23, 12, 85, 45)"
      ]
     },
     "execution_count": 32,
     "metadata": {},
     "output_type": "execute_result"
    }
   ],
   "source": [
    "tup3 =(60,43,323,56,45,78,23,12,85,45)\n",
    "tup3"
   ]
  },
  {
   "cell_type": "code",
   "execution_count": 33,
   "id": "7e0663ed",
   "metadata": {},
   "outputs": [
    {
     "data": {
      "text/plain": [
       "12"
      ]
     },
     "execution_count": 33,
     "metadata": {},
     "output_type": "execute_result"
    }
   ],
   "source": [
    "#find the min value of the tuple\n",
    "min(tup3)"
   ]
  },
  {
   "cell_type": "code",
   "execution_count": 34,
   "id": "93f5fdb4",
   "metadata": {},
   "outputs": [
    {
     "data": {
      "text/plain": [
       "323"
      ]
     },
     "execution_count": 34,
     "metadata": {},
     "output_type": "execute_result"
    }
   ],
   "source": [
    "#find the max value of the tuple\n",
    "max(tup3)"
   ]
  },
  {
   "cell_type": "markdown",
   "id": "cbc782b0",
   "metadata": {},
   "source": [
    "### functions in tuples:\n",
    "- .count(argument)   to find the occurance of any element in a tuple\n",
    "- .index(argument)   to find the index number of any element in a tuple"
   ]
  },
  {
   "cell_type": "code",
   "execution_count": 35,
   "id": "dd11ec82",
   "metadata": {},
   "outputs": [
    {
     "data": {
      "text/plain": [
       "2"
      ]
     },
     "execution_count": 35,
     "metadata": {},
     "output_type": "execute_result"
    }
   ],
   "source": [
    "#count(value) function is used to count the occurance of any element of a tuple\n",
    "\n",
    "tup3.count(45)"
   ]
  },
  {
   "cell_type": "code",
   "execution_count": 43,
   "id": "00e3941d",
   "metadata": {},
   "outputs": [
    {
     "data": {
      "text/plain": [
       "4"
      ]
     },
     "execution_count": 43,
     "metadata": {},
     "output_type": "execute_result"
    }
   ],
   "source": [
    "#to find the index of any element, we can use index() function by writing the element in the argument section\n",
    "\n",
    "tup3.index(45)\n"
   ]
  },
  {
   "cell_type": "code",
   "execution_count": 41,
   "id": "15bf6617",
   "metadata": {},
   "outputs": [
    {
     "data": {
      "text/plain": [
       "2"
      ]
     },
     "execution_count": 41,
     "metadata": {},
     "output_type": "execute_result"
    }
   ],
   "source": [
    "tup3.index(323)"
   ]
  },
  {
   "cell_type": "markdown",
   "id": "169f7498",
   "metadata": {},
   "source": [
    "-----"
   ]
  },
  {
   "cell_type": "markdown",
   "id": "24ea8129",
   "metadata": {},
   "source": [
    "## 2 : List\n",
    "\n",
    "- ordered collection of elements <br>\n",
    "- use square [ ] brackets/braces <br>\n",
    "- different types of elements can be stored <br>\n",
    "- once elements are stored , they can be changed (mutatable) <br>\n"
   ]
  },
  {
   "cell_type": "code",
   "execution_count": 45,
   "id": "1e6a6a8d",
   "metadata": {},
   "outputs": [
    {
     "data": {
      "text/plain": [
       "['faizan', 'hamza', False, 5.34, 4]"
      ]
     },
     "execution_count": 45,
     "metadata": {},
     "output_type": "execute_result"
    }
   ],
   "source": [
    "list1 = ['faizan', 'hamza', False, 5.34, 4]\n",
    "list1"
   ]
  },
  {
   "cell_type": "code",
   "execution_count": 46,
   "id": "fb5d795a",
   "metadata": {},
   "outputs": [
    {
     "data": {
      "text/plain": [
       "list"
      ]
     },
     "execution_count": 46,
     "metadata": {},
     "output_type": "execute_result"
    }
   ],
   "source": [
    "type(list1)"
   ]
  },
  {
   "cell_type": "code",
   "execution_count": 47,
   "id": "01af4d76",
   "metadata": {},
   "outputs": [
    {
     "data": {
      "text/plain": [
       "5"
      ]
     },
     "execution_count": 47,
     "metadata": {},
     "output_type": "execute_result"
    }
   ],
   "source": [
    "len(list1)"
   ]
  },
  {
   "cell_type": "markdown",
   "id": "d73d1639",
   "metadata": {},
   "source": [
    "### Indexing in list\n"
   ]
  },
  {
   "cell_type": "code",
   "execution_count": 48,
   "id": "c4a26759",
   "metadata": {
    "scrolled": true
   },
   "outputs": [
    {
     "data": {
      "text/plain": [
       "'faizan'"
      ]
     },
     "execution_count": 48,
     "metadata": {},
     "output_type": "execute_result"
    }
   ],
   "source": [
    "list1[0]"
   ]
  },
  {
   "cell_type": "code",
   "execution_count": 49,
   "id": "50a95c9e",
   "metadata": {},
   "outputs": [
    {
     "data": {
      "text/plain": [
       "'hamza'"
      ]
     },
     "execution_count": 49,
     "metadata": {},
     "output_type": "execute_result"
    }
   ],
   "source": [
    "list1[1]"
   ]
  },
  {
   "cell_type": "code",
   "execution_count": 50,
   "id": "fa3018af",
   "metadata": {},
   "outputs": [
    {
     "data": {
      "text/plain": [
       "False"
      ]
     },
     "execution_count": 50,
     "metadata": {},
     "output_type": "execute_result"
    }
   ],
   "source": [
    "list1[2]"
   ]
  },
  {
   "cell_type": "code",
   "execution_count": 51,
   "id": "a51adf3b",
   "metadata": {},
   "outputs": [
    {
     "data": {
      "text/plain": [
       "5.34"
      ]
     },
     "execution_count": 51,
     "metadata": {},
     "output_type": "execute_result"
    }
   ],
   "source": [
    "list1[3]"
   ]
  },
  {
   "cell_type": "code",
   "execution_count": 52,
   "id": "3eb40785",
   "metadata": {},
   "outputs": [
    {
     "data": {
      "text/plain": [
       "4"
      ]
     },
     "execution_count": 52,
     "metadata": {},
     "output_type": "execute_result"
    }
   ],
   "source": [
    "list1[4]"
   ]
  },
  {
   "cell_type": "code",
   "execution_count": 53,
   "id": "69e769dc",
   "metadata": {},
   "outputs": [
    {
     "ename": "IndexError",
     "evalue": "list index out of range",
     "output_type": "error",
     "traceback": [
      "\u001b[1;31m---------------------------------------------------------------------------\u001b[0m",
      "\u001b[1;31mIndexError\u001b[0m                                Traceback (most recent call last)",
      "Input \u001b[1;32mIn [53]\u001b[0m, in \u001b[0;36m<cell line: 1>\u001b[1;34m()\u001b[0m\n\u001b[1;32m----> 1\u001b[0m \u001b[43mlist1\u001b[49m\u001b[43m[\u001b[49m\u001b[38;5;241;43m5\u001b[39;49m\u001b[43m]\u001b[49m\n",
      "\u001b[1;31mIndexError\u001b[0m: list index out of range"
     ]
    }
   ],
   "source": [
    "list1[5]  #it will immidiately show an error that the entered index does'nt exist"
   ]
  },
  {
   "cell_type": "markdown",
   "id": "6a341206",
   "metadata": {},
   "source": [
    "#### start = include\n",
    "#### end = exclude or the last index is eliminated!"
   ]
  },
  {
   "cell_type": "code",
   "execution_count": 55,
   "id": "e7cc5a2c",
   "metadata": {},
   "outputs": [
    {
     "data": {
      "text/plain": [
       "['faizan']"
      ]
     },
     "execution_count": 55,
     "metadata": {},
     "output_type": "execute_result"
    }
   ],
   "source": [
    "list1[0:1]"
   ]
  },
  {
   "cell_type": "code",
   "execution_count": 56,
   "id": "674c1e44",
   "metadata": {},
   "outputs": [
    {
     "data": {
      "text/plain": [
       "['faizan', 'hamza']"
      ]
     },
     "execution_count": 56,
     "metadata": {},
     "output_type": "execute_result"
    }
   ],
   "source": [
    "list1[0:2]"
   ]
  },
  {
   "cell_type": "code",
   "execution_count": 57,
   "id": "71a39e93",
   "metadata": {},
   "outputs": [
    {
     "data": {
      "text/plain": [
       "['faizan', 'hamza', False]"
      ]
     },
     "execution_count": 57,
     "metadata": {},
     "output_type": "execute_result"
    }
   ],
   "source": [
    "list1[0:3]"
   ]
  },
  {
   "cell_type": "code",
   "execution_count": 58,
   "id": "025f4c3e",
   "metadata": {},
   "outputs": [
    {
     "data": {
      "text/plain": [
       "['faizan', 'hamza', False, 5.34]"
      ]
     },
     "execution_count": 58,
     "metadata": {},
     "output_type": "execute_result"
    }
   ],
   "source": [
    "list1[0:4]"
   ]
  },
  {
   "cell_type": "code",
   "execution_count": 59,
   "id": "3855bde7",
   "metadata": {},
   "outputs": [
    {
     "data": {
      "text/plain": [
       "['faizan', 'hamza', False, 5.34, 4]"
      ]
     },
     "execution_count": 59,
     "metadata": {},
     "output_type": "execute_result"
    }
   ],
   "source": [
    "list1[0:5]"
   ]
  },
  {
   "cell_type": "code",
   "execution_count": 61,
   "id": "7675f832",
   "metadata": {},
   "outputs": [
    {
     "data": {
      "text/plain": [
       "5"
      ]
     },
     "execution_count": 61,
     "metadata": {},
     "output_type": "execute_result"
    }
   ],
   "source": [
    "len(list1)"
   ]
  },
  {
   "cell_type": "code",
   "execution_count": 60,
   "id": "be7b1bf0",
   "metadata": {},
   "outputs": [
    {
     "data": {
      "text/plain": [
       "['faizan', 'hamza', False, 5.34, 4]"
      ]
     },
     "execution_count": 60,
     "metadata": {},
     "output_type": "execute_result"
    }
   ],
   "source": [
    "list1[0:6]     #if we write index number which exceeds the last index number,it will still show all the elements of the tuple"
   ]
  },
  {
   "cell_type": "code",
   "execution_count": 66,
   "id": "497fb909",
   "metadata": {},
   "outputs": [
    {
     "data": {
      "text/plain": [
       "['fazi', 12, 'c', 4.2, 'samosa', 'pakora']"
      ]
     },
     "execution_count": 66,
     "metadata": {},
     "output_type": "execute_result"
    }
   ],
   "source": [
    "list2 = ['fazi', 12,'c', 4.2, 'samosa' , 'pakora']\n",
    "list2"
   ]
  },
  {
   "cell_type": "code",
   "execution_count": 67,
   "id": "121572d7",
   "metadata": {},
   "outputs": [
    {
     "data": {
      "text/plain": [
       "['faizan', 'hamza', False, 5.34, 4, 'fazi', 12, 'c', 4.2, 'samosa', 'pakora']"
      ]
     },
     "execution_count": 67,
     "metadata": {},
     "output_type": "execute_result"
    }
   ],
   "source": [
    "#concatination (adding 2 or <2 lists)\n",
    "list1 + list2"
   ]
  },
  {
   "cell_type": "code",
   "execution_count": 68,
   "id": "7d15fdb0",
   "metadata": {
    "scrolled": false
   },
   "outputs": [
    {
     "data": {
      "text/plain": [
       "['faizan',\n",
       " 'hamza',\n",
       " False,\n",
       " 5.34,\n",
       " 4,\n",
       " 'faizan',\n",
       " 'hamza',\n",
       " False,\n",
       " 5.34,\n",
       " 4,\n",
       " 'faizan',\n",
       " 'hamza',\n",
       " False,\n",
       " 5.34,\n",
       " 4,\n",
       " 'fazi',\n",
       " 12,\n",
       " 'c',\n",
       " 4.2,\n",
       " 'samosa',\n",
       " 'pakora']"
      ]
     },
     "execution_count": 68,
     "metadata": {},
     "output_type": "execute_result"
    }
   ],
   "source": [
    "#concatination and repeatation\n",
    "list1*3 + list2"
   ]
  },
  {
   "cell_type": "markdown",
   "id": "8570bd1a",
   "metadata": {},
   "source": [
    "### functions in tuples:"
   ]
  },
  {
   "cell_type": "code",
   "execution_count": 130,
   "id": "e2d82833",
   "metadata": {},
   "outputs": [
    {
     "data": {
      "text/plain": [
       "['faizan is learning new skills']"
      ]
     },
     "execution_count": 130,
     "metadata": {},
     "output_type": "execute_result"
    }
   ],
   "source": [
    "# append () function will add anything in the list at the last index value\n",
    "\n",
    "list2.append(\"faizan is learning new skills\")\n",
    "list2"
   ]
  },
  {
   "cell_type": "code",
   "execution_count": 79,
   "id": "2656a2f4",
   "metadata": {},
   "outputs": [
    {
     "data": {
      "text/plain": [
       "[]"
      ]
     },
     "execution_count": 79,
     "metadata": {},
     "output_type": "execute_result"
    }
   ],
   "source": [
    "#clear() is used to clear all the elements of a list\n",
    "\n",
    "list2.clear() \n",
    "list2"
   ]
  },
  {
   "cell_type": "code",
   "execution_count": 78,
   "id": "f0582726",
   "metadata": {},
   "outputs": [
    {
     "data": {
      "text/plain": [
       "[]"
      ]
     },
     "execution_count": 78,
     "metadata": {},
     "output_type": "execute_result"
    }
   ],
   "source": [
    "list2"
   ]
  },
  {
   "cell_type": "code",
   "execution_count": 80,
   "id": "aa98f99b",
   "metadata": {},
   "outputs": [
    {
     "data": {
      "text/plain": [
       "[12, 43, 45, 3, 2, 67, 23, 87, 232, 785, 78452, 6554, 23, 52, 2]"
      ]
     },
     "execution_count": 80,
     "metadata": {},
     "output_type": "execute_result"
    }
   ],
   "source": [
    "list3 = [12,43,45,3,2,67,23,87,232,785,78452,6554,23,52,2]\n",
    "list3"
   ]
  },
  {
   "cell_type": "code",
   "execution_count": 3,
   "id": "21eefc1f",
   "metadata": {},
   "outputs": [
    {
     "data": {
      "text/plain": [
       "['faizan', 54, 32.1, False]"
      ]
     },
     "execution_count": 3,
     "metadata": {},
     "output_type": "execute_result"
    }
   ],
   "source": [
    "lista = [\"faizan\", 54, 32.1, False ]\n",
    "newList = lista.copy()\n",
    "newList"
   ]
  },
  {
   "cell_type": "code",
   "execution_count": 83,
   "id": "72bd7a6e",
   "metadata": {},
   "outputs": [
    {
     "data": {
      "text/plain": [
       "2"
      ]
     },
     "execution_count": 83,
     "metadata": {},
     "output_type": "execute_result"
    }
   ],
   "source": [
    "list3.count(23)  #count() is used to count the occurence of any element of list"
   ]
  },
  {
   "cell_type": "code",
   "execution_count": 132,
   "id": "4041c917",
   "metadata": {},
   "outputs": [
    {
     "data": {
      "text/plain": [
       "[23, 34, 34, 23, 5676, 566, 'faizan', 'f', 'a', 'z', 'i', 'f', 'a', 'z', 'i']"
      ]
     },
     "execution_count": 132,
     "metadata": {},
     "output_type": "execute_result"
    }
   ],
   "source": [
    "#extend() function will add the new written value as a indiviual element in list\n",
    "list6.extend('fazi')\n",
    "list6"
   ]
  },
  {
   "cell_type": "code",
   "execution_count": 134,
   "id": "5e601c98",
   "metadata": {},
   "outputs": [
    {
     "ename": "TypeError",
     "evalue": "'int' object is not iterable",
     "output_type": "error",
     "traceback": [
      "\u001b[1;31m---------------------------------------------------------------------------\u001b[0m",
      "\u001b[1;31mTypeError\u001b[0m                                 Traceback (most recent call last)",
      "Input \u001b[1;32mIn [134]\u001b[0m, in \u001b[0;36m<cell line: 2>\u001b[1;34m()\u001b[0m\n\u001b[0;32m      1\u001b[0m \u001b[38;5;66;03m#extend() function will add the new written value as a indiviual element in list (it does'nt work with integers)\u001b[39;00m\n\u001b[1;32m----> 2\u001b[0m \u001b[43mlist6\u001b[49m\u001b[38;5;241;43m.\u001b[39;49m\u001b[43mextend\u001b[49m\u001b[43m(\u001b[49m\u001b[38;5;241;43m21\u001b[39;49m\u001b[43m)\u001b[49m\n\u001b[0;32m      3\u001b[0m list6\n",
      "\u001b[1;31mTypeError\u001b[0m: 'int' object is not iterable"
     ]
    }
   ],
   "source": [
    "#extend() function will add the new written value as a indiviual element in list (it does'nt work with integers)\n",
    "list6.extend(21)\n",
    "list6"
   ]
  },
  {
   "cell_type": "code",
   "execution_count": 88,
   "id": "eef13006",
   "metadata": {
    "scrolled": true
   },
   "outputs": [
    {
     "data": {
      "text/plain": [
       "[12,\n",
       " 43,\n",
       " 45,\n",
       " 3,\n",
       " 2,\n",
       " 67,\n",
       " 23,\n",
       " 87,\n",
       " 232,\n",
       " 785,\n",
       " 78452,\n",
       " 6554,\n",
       " 23,\n",
       " 52,\n",
       " 2,\n",
       " 'f',\n",
       " 'a',\n",
       " 'i',\n",
       " 'z',\n",
       " 'a',\n",
       " 'n',\n",
       " 'f',\n",
       " 'a',\n",
       " 'i',\n",
       " 'z',\n",
       " 'a',\n",
       " 'n',\n",
       " 'f',\n",
       " 'f',\n",
       " 'a',\n",
       " 'i',\n",
       " 'z',\n",
       " 'a',\n",
       " 'n']"
      ]
     },
     "execution_count": 88,
     "metadata": {},
     "output_type": "execute_result"
    }
   ],
   "source": [
    "list3.extend(\"faizan\")\n",
    "list3"
   ]
  },
  {
   "cell_type": "code",
   "execution_count": 89,
   "id": "bdc8efa7",
   "metadata": {},
   "outputs": [
    {
     "data": {
      "text/plain": [
       "2"
      ]
     },
     "execution_count": 89,
     "metadata": {},
     "output_type": "execute_result"
    }
   ],
   "source": [
    "#to find the index of any element, we can use index() function by writing the element in the argument section\n",
    "\n",
    "list3.index(45)  "
   ]
  },
  {
   "cell_type": "code",
   "execution_count": 128,
   "id": "1ee4d1d1",
   "metadata": {},
   "outputs": [
    {
     "ename": "TypeError",
     "evalue": "'<' not supported between instances of 'int' and 'str'",
     "output_type": "error",
     "traceback": [
      "\u001b[1;31m---------------------------------------------------------------------------\u001b[0m",
      "\u001b[1;31mTypeError\u001b[0m                                 Traceback (most recent call last)",
      "Input \u001b[1;32mIn [128]\u001b[0m, in \u001b[0;36m<cell line: 1>\u001b[1;34m()\u001b[0m\n\u001b[1;32m----> 1\u001b[0m \u001b[43mlist3\u001b[49m\u001b[38;5;241;43m.\u001b[39;49m\u001b[43msort\u001b[49m\u001b[43m(\u001b[49m\u001b[43m)\u001b[49m   \u001b[38;5;66;03m#sort function cannot be used with strings\u001b[39;00m\n\u001b[0;32m      2\u001b[0m list3\n",
      "\u001b[1;31mTypeError\u001b[0m: '<' not supported between instances of 'int' and 'str'"
     ]
    }
   ],
   "source": [
    "list3.sort()   #sort function cannot be used with strings\n",
    "list3\n"
   ]
  },
  {
   "cell_type": "code",
   "execution_count": 93,
   "id": "f577f088",
   "metadata": {},
   "outputs": [
    {
     "data": {
      "text/plain": [
       "[21, 32, 54, 2, 54, 67, 23, 6765, 23, 45, 34, 12, 45, 453436, 23, 2323]"
      ]
     },
     "execution_count": 93,
     "metadata": {},
     "output_type": "execute_result"
    }
   ],
   "source": [
    "list4 = [21,32,54,2,54,67,23,6765,23,45,34,12,45,453436,23,2323]\n",
    "list4"
   ]
  },
  {
   "cell_type": "code",
   "execution_count": 96,
   "id": "d2680ff9",
   "metadata": {},
   "outputs": [
    {
     "data": {
      "text/plain": [
       "[2, 12, 21, 23, 23, 23, 32, 34, 45, 45, 54, 54, 67, 2323, 6765, 453436]"
      ]
     },
     "execution_count": 96,
     "metadata": {},
     "output_type": "execute_result"
    }
   ],
   "source": [
    "#sort() function is used to sort the elements (only work for integer elements)\n",
    "\n",
    "list4.sort()\n",
    "list4"
   ]
  },
  {
   "cell_type": "code",
   "execution_count": 97,
   "id": "f745ed4c",
   "metadata": {},
   "outputs": [
    {
     "data": {
      "text/plain": [
       "['n',\n",
       " 'a',\n",
       " 'z',\n",
       " 'i',\n",
       " 'a',\n",
       " 'f',\n",
       " 'f',\n",
       " 'n',\n",
       " 'a',\n",
       " 'z',\n",
       " 'i',\n",
       " 'a',\n",
       " 'f',\n",
       " 'n',\n",
       " 'a',\n",
       " 'z',\n",
       " 'i',\n",
       " 'a',\n",
       " 'f',\n",
       " 78452,\n",
       " 6554,\n",
       " 785,\n",
       " 232,\n",
       " 87,\n",
       " 67,\n",
       " 52,\n",
       " 45,\n",
       " 43,\n",
       " 23,\n",
       " 23,\n",
       " 12,\n",
       " 3,\n",
       " 2,\n",
       " 2]"
      ]
     },
     "execution_count": 97,
     "metadata": {},
     "output_type": "execute_result"
    }
   ],
   "source": [
    "#reverse() function is used to reverse the order of the list elements\n",
    "\n",
    "list3.reverse()\n",
    "list3"
   ]
  },
  {
   "cell_type": "code",
   "execution_count": 98,
   "id": "0a2cbb80",
   "metadata": {},
   "outputs": [
    {
     "data": {
      "text/plain": [
       "[453436, 6765, 2323, 67, 54, 54, 45, 45, 34, 32, 23, 23, 23, 21, 12, 2]"
      ]
     },
     "execution_count": 98,
     "metadata": {},
     "output_type": "execute_result"
    }
   ],
   "source": [
    "list4.reverse()\n",
    "list4"
   ]
  },
  {
   "cell_type": "code",
   "execution_count": 101,
   "id": "82441c1c",
   "metadata": {},
   "outputs": [
    {
     "data": {
      "text/plain": [
       "[453436, 6765, 2323, 67, 54, 54, 45, 45, 34, 32, 23, 21, 12, 2]"
      ]
     },
     "execution_count": 101,
     "metadata": {},
     "output_type": "execute_result"
    }
   ],
   "source": [
    "list4.remove(23)\n",
    "list4"
   ]
  },
  {
   "cell_type": "code",
   "execution_count": 102,
   "id": "99bc529f",
   "metadata": {},
   "outputs": [
    {
     "data": {
      "text/plain": [
       "[1, 2, 2, 2, 2, 3, 3, 3, 4, 4, 4, 4, 5, 5, 5, 5, 6, 6, 6, 6, 7, 7, 7, 7]"
      ]
     },
     "execution_count": 102,
     "metadata": {},
     "output_type": "execute_result"
    }
   ],
   "source": [
    "list5 = [1,2,2,2,2,3,3,3,4,4,4,4,5,5,5,5,6,6,6,6,7,7,7,7]\n",
    "list5"
   ]
  },
  {
   "cell_type": "code",
   "execution_count": 106,
   "id": "a5a843c0",
   "metadata": {},
   "outputs": [
    {
     "data": {
      "text/plain": [
       "[2, 2, 2, 2, 3, 3, 3, 4, 4, 4, 4, 5, 5, 5, 6, 6, 6, 6, 7, 7, 7, 7]"
      ]
     },
     "execution_count": 106,
     "metadata": {},
     "output_type": "execute_result"
    }
   ],
   "source": [
    "#remove() function is used to remove the repeatition by one\n",
    "list5.remove(5)\n",
    "list5"
   ]
  },
  {
   "cell_type": "code",
   "execution_count": 108,
   "id": "08b4d306",
   "metadata": {},
   "outputs": [
    {
     "data": {
      "text/plain": [
       "[2, 2, 3, 3, 3, 4, 4, 4, 4, 5, 5, 5, 6, 6, 6, 6, 7, 7, 7, 7]"
      ]
     },
     "execution_count": 108,
     "metadata": {},
     "output_type": "execute_result"
    }
   ],
   "source": [
    "list5.remove(2)\n",
    "list5"
   ]
  },
  {
   "cell_type": "code",
   "execution_count": 111,
   "id": "15fa573e",
   "metadata": {},
   "outputs": [
    {
     "data": {
      "text/plain": [
       "[2, 2, 3, 3, 3, 4, 5, 5, 5, 6, 6, 6, 6, 7, 7, 7, 7]"
      ]
     },
     "execution_count": 111,
     "metadata": {},
     "output_type": "execute_result"
    }
   ],
   "source": [
    "list5.remove(4)\n",
    "list5"
   ]
  },
  {
   "cell_type": "code",
   "execution_count": 112,
   "id": "a73d7ddf",
   "metadata": {},
   "outputs": [
    {
     "data": {
      "text/plain": [
       "[2, 2, 3, 3, 3, 5, 5, 5, 6, 6, 6, 6, 7, 7, 7, 7]"
      ]
     },
     "execution_count": 112,
     "metadata": {},
     "output_type": "execute_result"
    }
   ],
   "source": [
    "list5.remove(4)\n",
    "list5"
   ]
  },
  {
   "cell_type": "code",
   "execution_count": 114,
   "id": "b0cdf299",
   "metadata": {},
   "outputs": [
    {
     "data": {
      "text/plain": [
       "[2, 3, 3, 3, 5, 5, 5, 6, 6, 6, 6, 7, 7, 7, 7]"
      ]
     },
     "execution_count": 114,
     "metadata": {},
     "output_type": "execute_result"
    }
   ],
   "source": [
    "list5.remove(2)\n",
    "list5"
   ]
  },
  {
   "cell_type": "code",
   "execution_count": 115,
   "id": "1afda25c",
   "metadata": {},
   "outputs": [
    {
     "data": {
      "text/plain": [
       "[2, 3, 3, 5, 5, 5, 6, 6, 6, 6, 7, 7, 7, 7]"
      ]
     },
     "execution_count": 115,
     "metadata": {},
     "output_type": "execute_result"
    }
   ],
   "source": [
    "list5.remove(3)\n",
    "list5"
   ]
  },
  {
   "cell_type": "code",
   "execution_count": 116,
   "id": "17a502bd",
   "metadata": {},
   "outputs": [
    {
     "data": {
      "text/plain": [
       "[2, 3, 5, 5, 5, 6, 6, 6, 6, 7, 7, 7, 7]"
      ]
     },
     "execution_count": 116,
     "metadata": {},
     "output_type": "execute_result"
    }
   ],
   "source": [
    "list5.remove(3)\n",
    "list5"
   ]
  },
  {
   "cell_type": "code",
   "execution_count": 117,
   "id": "98dc2353",
   "metadata": {},
   "outputs": [
    {
     "data": {
      "text/plain": [
       "[2, 3, 5, 5, 6, 6, 6, 6, 7, 7, 7, 7]"
      ]
     },
     "execution_count": 117,
     "metadata": {},
     "output_type": "execute_result"
    }
   ],
   "source": [
    "list5.remove(5)\n",
    "list5"
   ]
  },
  {
   "cell_type": "code",
   "execution_count": 118,
   "id": "c8174bf7",
   "metadata": {},
   "outputs": [
    {
     "data": {
      "text/plain": [
       "[2, 3, 5, 6, 6, 6, 6, 7, 7, 7, 7]"
      ]
     },
     "execution_count": 118,
     "metadata": {},
     "output_type": "execute_result"
    }
   ],
   "source": [
    "list5.remove(5)\n",
    "list5"
   ]
  },
  {
   "cell_type": "code",
   "execution_count": 119,
   "id": "6bb50841",
   "metadata": {},
   "outputs": [
    {
     "data": {
      "text/plain": [
       "[2, 3, 5, 6, 6, 6, 7, 7, 7, 7]"
      ]
     },
     "execution_count": 119,
     "metadata": {},
     "output_type": "execute_result"
    }
   ],
   "source": [
    "list5.remove(6)\n",
    "list5"
   ]
  },
  {
   "cell_type": "code",
   "execution_count": 120,
   "id": "e3e23d63",
   "metadata": {},
   "outputs": [
    {
     "data": {
      "text/plain": [
       "[2, 3, 5, 6, 6, 7, 7, 7, 7]"
      ]
     },
     "execution_count": 120,
     "metadata": {},
     "output_type": "execute_result"
    }
   ],
   "source": [
    "list5.remove(6)\n",
    "list5"
   ]
  },
  {
   "cell_type": "code",
   "execution_count": 121,
   "id": "7a0d68b5",
   "metadata": {},
   "outputs": [
    {
     "data": {
      "text/plain": [
       "[2, 3, 5, 6, 7, 7, 7, 7]"
      ]
     },
     "execution_count": 121,
     "metadata": {},
     "output_type": "execute_result"
    }
   ],
   "source": [
    "list5.remove(6)\n",
    "list5"
   ]
  },
  {
   "cell_type": "code",
   "execution_count": 122,
   "id": "449dc75c",
   "metadata": {},
   "outputs": [
    {
     "data": {
      "text/plain": [
       "[2, 3, 5, 6, 7, 7, 7]"
      ]
     },
     "execution_count": 122,
     "metadata": {},
     "output_type": "execute_result"
    }
   ],
   "source": [
    "list5.remove(7)\n",
    "list5"
   ]
  },
  {
   "cell_type": "code",
   "execution_count": 123,
   "id": "91481407",
   "metadata": {},
   "outputs": [
    {
     "data": {
      "text/plain": [
       "[2, 3, 5, 6, 7, 7]"
      ]
     },
     "execution_count": 123,
     "metadata": {},
     "output_type": "execute_result"
    }
   ],
   "source": [
    "list5.remove(7)\n",
    "list5"
   ]
  },
  {
   "cell_type": "code",
   "execution_count": 124,
   "id": "1fcfbce5",
   "metadata": {},
   "outputs": [
    {
     "data": {
      "text/plain": [
       "[2, 3, 5, 6, 7]"
      ]
     },
     "execution_count": 124,
     "metadata": {},
     "output_type": "execute_result"
    }
   ],
   "source": [
    "list5.remove(7)\n",
    "list5"
   ]
  },
  {
   "cell_type": "code",
   "execution_count": 125,
   "id": "19abf4ab",
   "metadata": {},
   "outputs": [
    {
     "data": {
      "text/plain": [
       "[23, 34, 'fazi', 34, 23, 5676, 566]"
      ]
     },
     "execution_count": 125,
     "metadata": {},
     "output_type": "execute_result"
    }
   ],
   "source": [
    "list6 = [23,34,'fazi',34,23,5676,566]\n",
    "list6\n"
   ]
  },
  {
   "cell_type": "code",
   "execution_count": 127,
   "id": "2fe43acf",
   "metadata": {},
   "outputs": [
    {
     "data": {
      "text/plain": [
       "[23, 34, 34, 23, 5676, 566]"
      ]
     },
     "execution_count": 127,
     "metadata": {},
     "output_type": "execute_result"
    }
   ],
   "source": [
    "list6.remove('fazi')\n",
    "list6\n"
   ]
  },
  {
   "cell_type": "code",
   "execution_count": 7,
   "id": "3897c6c4",
   "metadata": {},
   "outputs": [
    {
     "data": {
      "text/plain": [
       "[32, 34, 1, 65, 'faizan', 2, 7, 3, 32, 32.33, 'name', False]"
      ]
     },
     "execution_count": 7,
     "metadata": {},
     "output_type": "execute_result"
    }
   ],
   "source": [
    "#insert( index, element to be added) \n",
    "list7= [32,34,1,65,2,7,3,32,32.33, \"name\", False ]\n",
    "list7.insert(4, \"faizan\")\n",
    "list7"
   ]
  },
  {
   "cell_type": "code",
   "execution_count": 135,
   "id": "d63218bf",
   "metadata": {},
   "outputs": [
    {
     "data": {
      "text/plain": [
       "[23,\n",
       " 34,\n",
       " 34,\n",
       " 23,\n",
       " 5676,\n",
       " 566,\n",
       " 'faizan',\n",
       " 'f',\n",
       " 'a',\n",
       " 'z',\n",
       " 'i',\n",
       " 'f',\n",
       " 'a',\n",
       " 'z',\n",
       " 'i',\n",
       " 391]"
      ]
     },
     "execution_count": 135,
     "metadata": {},
     "output_type": "execute_result"
    }
   ],
   "source": [
    "list6.append(391)\n",
    "list6"
   ]
  },
  {
   "cell_type": "code",
   "execution_count": 10,
   "id": "71b3f44b",
   "metadata": {},
   "outputs": [
    {
     "data": {
      "text/plain": [
       "[32, 34, 1, 65, 'faizan', 2, 7, 3, 32, 32.33, 'name', False]"
      ]
     },
     "execution_count": 10,
     "metadata": {},
     "output_type": "execute_result"
    }
   ],
   "source": [
    "list7"
   ]
  },
  {
   "cell_type": "code",
   "execution_count": 12,
   "id": "cf992ab5",
   "metadata": {},
   "outputs": [
    {
     "data": {
      "text/plain": [
       "[32, 34, 1, 'faizan', 2, 7, 3, 32, 32.33, 'name', False]"
      ]
     },
     "execution_count": 12,
     "metadata": {},
     "output_type": "execute_result"
    }
   ],
   "source": [
    "#pop( index ) is used to remove an element by giving an argument of that element's index.\n",
    "\n",
    "list7.pop(3)\n",
    "list7"
   ]
  },
  {
   "cell_type": "markdown",
   "id": "68152f92",
   "metadata": {},
   "source": [
    "----\n"
   ]
  },
  {
   "cell_type": "markdown",
   "id": "a6f206fb",
   "metadata": {},
   "source": [
    "## 3: Dictionaries\n",
    "\n",
    "- collection of unordered elements\n",
    "- Keys and Values\n",
    "- curly braces /brackets are used {  }\n",
    "- elements can be changed (Mutateable)"
   ]
  },
  {
   "cell_type": "code",
   "execution_count": 2,
   "id": "97aaf729",
   "metadata": {},
   "outputs": [
    {
     "data": {
      "text/plain": [
       "{'mouse': 150, 'keyboard': 150, 'lcd': 1500, 'power cables': 300}"
      ]
     },
     "execution_count": 2,
     "metadata": {},
     "output_type": "execute_result"
    }
   ],
   "source": [
    "d1 = {\"mouse\": 150, \"keyboard\": 150, \"lcd\": 1500, \"power cables\":300}\n",
    "d1"
   ]
  },
  {
   "cell_type": "code",
   "execution_count": 5,
   "id": "e9ed95dd",
   "metadata": {},
   "outputs": [
    {
     "data": {
      "text/plain": [
       "{'mouse': 150, 'keyboard': 150, 'lcd': 1500, 'power cables': 300, 'cpu': 1200}"
      ]
     },
     "execution_count": 5,
     "metadata": {},
     "output_type": "execute_result"
    }
   ],
   "source": [
    "#adding new values/ elements in a dictionary\n",
    "\n",
    "d1[\"cpu\"]= 1200\n",
    "d1"
   ]
  },
  {
   "cell_type": "markdown",
   "id": "ffde90a4",
   "metadata": {},
   "source": [
    "### functions in dictionary\n"
   ]
  },
  {
   "cell_type": "code",
   "execution_count": 9,
   "id": "720ea8a2",
   "metadata": {},
   "outputs": [
    {
     "data": {
      "text/plain": [
       "dict_values([150, 150, 1500, 300, 1200])"
      ]
     },
     "execution_count": 9,
     "metadata": {},
     "output_type": "execute_result"
    }
   ],
   "source": [
    "#To extract only values ,use values() function\n",
    "\n",
    "d1.values()"
   ]
  },
  {
   "cell_type": "code",
   "execution_count": 8,
   "id": "1db65e02",
   "metadata": {},
   "outputs": [
    {
     "data": {
      "text/plain": [
       "dict_keys(['mouse', 'keyboard', 'lcd', 'power cables', 'cpu'])"
      ]
     },
     "execution_count": 8,
     "metadata": {},
     "output_type": "execute_result"
    }
   ],
   "source": [
    "#To extract only Keys ,use Key() function\n",
    "d1.keys()"
   ]
  },
  {
   "cell_type": "code",
   "execution_count": 11,
   "id": "15d88d58",
   "metadata": {},
   "outputs": [
    {
     "data": {
      "text/plain": [
       "{'pencil': 10, 'eraser': 5, 'pointer': 15, 'remover': 20}"
      ]
     },
     "execution_count": 11,
     "metadata": {},
     "output_type": "execute_result"
    }
   ],
   "source": [
    "d2 = {\"pencil\":10, \"eraser\": 5, \"pointer\":15, \"remover\": 20}\n",
    "d2"
   ]
  },
  {
   "cell_type": "code",
   "execution_count": 12,
   "id": "b87d173a",
   "metadata": {},
   "outputs": [
    {
     "data": {
      "text/plain": [
       "dict_values([10, 5, 15, 20])"
      ]
     },
     "execution_count": 12,
     "metadata": {},
     "output_type": "execute_result"
    }
   ],
   "source": [
    "d2.values()"
   ]
  },
  {
   "cell_type": "code",
   "execution_count": 13,
   "id": "d5b1d81d",
   "metadata": {},
   "outputs": [
    {
     "data": {
      "text/plain": [
       "dict_keys(['pencil', 'eraser', 'pointer', 'remover'])"
      ]
     },
     "execution_count": 13,
     "metadata": {},
     "output_type": "execute_result"
    }
   ],
   "source": [
    "d2.keys()"
   ]
  },
  {
   "cell_type": "code",
   "execution_count": 14,
   "id": "c6faed67",
   "metadata": {},
   "outputs": [
    {
     "ename": "TypeError",
     "evalue": "unsupported operand type(s) for +: 'dict' and 'dict'",
     "output_type": "error",
     "traceback": [
      "\u001b[1;31m---------------------------------------------------------------------------\u001b[0m",
      "\u001b[1;31mTypeError\u001b[0m                                 Traceback (most recent call last)",
      "Input \u001b[1;32mIn [14]\u001b[0m, in \u001b[0;36m<cell line: 1>\u001b[1;34m()\u001b[0m\n\u001b[1;32m----> 1\u001b[0m \u001b[43md1\u001b[49m\u001b[38;5;241;43m+\u001b[39;49m\u001b[43md2\u001b[49m\n",
      "\u001b[1;31mTypeError\u001b[0m: unsupported operand type(s) for +: 'dict' and 'dict'"
     ]
    }
   ],
   "source": [
    "#we cannot add dictionaries like we add lists and tuples\n",
    "\n",
    "d1+d2 "
   ]
  },
  {
   "cell_type": "code",
   "execution_count": 17,
   "id": "60deeeee",
   "metadata": {},
   "outputs": [
    {
     "data": {
      "text/plain": [
       "{'mouse': 150,\n",
       " 'keyboard': 150,\n",
       " 'lcd': 1500,\n",
       " 'power cables': 300,\n",
       " 'cpu': 1200,\n",
       " 'pencil': 10,\n",
       " 'eraser': 5,\n",
       " 'pointer': 15,\n",
       " 'remover': 20}"
      ]
     },
     "execution_count": 17,
     "metadata": {},
     "output_type": "execute_result"
    }
   ],
   "source": [
    "#use update function to add 2 dictionaries\n",
    "\n",
    "d1.update(d2)\n",
    "d1"
   ]
  },
  {
   "cell_type": "code",
   "execution_count": 19,
   "id": "030724a4",
   "metadata": {},
   "outputs": [
    {
     "data": {
      "text/plain": [
       "{'pencil': 10,\n",
       " 'eraser': 5,\n",
       " 'pointer': 15,\n",
       " 'remover': 20,\n",
       " 'mouse': 150,\n",
       " 'keyboard': 150,\n",
       " 'lcd': 1500,\n",
       " 'power cables': 300,\n",
       " 'cpu': 1200}"
      ]
     },
     "execution_count": 19,
     "metadata": {},
     "output_type": "execute_result"
    }
   ],
   "source": [
    "d2.update(d1)\n",
    "d2"
   ]
  },
  {
   "cell_type": "code",
   "execution_count": 21,
   "id": "2fc851a3",
   "metadata": {},
   "outputs": [
    {
     "data": {
      "text/plain": [
       "{}"
      ]
     },
     "execution_count": 21,
     "metadata": {},
     "output_type": "execute_result"
    }
   ],
   "source": [
    "d2.clear()\n",
    "d2"
   ]
  },
  {
   "cell_type": "code",
   "execution_count": 24,
   "id": "7a1866fa",
   "metadata": {},
   "outputs": [
    {
     "data": {
      "text/plain": [
       "{'mouse': 150,\n",
       " 'keyboard': 150,\n",
       " 'lcd': 1500,\n",
       " 'power cables': 300,\n",
       " 'cpu': 1200,\n",
       " 'pencil': 10,\n",
       " 'eraser': 5,\n",
       " 'pointer': 15,\n",
       " 'remover': 20}"
      ]
     },
     "execution_count": 24,
     "metadata": {},
     "output_type": "execute_result"
    }
   ],
   "source": [
    "d2 = d1.copy()\n",
    "d2"
   ]
  },
  {
   "cell_type": "code",
   "execution_count": 25,
   "id": "2576fa19",
   "metadata": {},
   "outputs": [
    {
     "data": {
      "text/plain": [
       "dict_items([('mouse', 150), ('keyboard', 150), ('lcd', 1500), ('power cables', 300), ('cpu', 1200), ('pencil', 10), ('eraser', 5), ('pointer', 15), ('remover', 20)])"
      ]
     },
     "execution_count": 25,
     "metadata": {},
     "output_type": "execute_result"
    }
   ],
   "source": [
    "d1.items()"
   ]
  },
  {
   "cell_type": "code",
   "execution_count": 40,
   "id": "e9fe660e",
   "metadata": {},
   "outputs": [
    {
     "data": {
      "text/plain": [
       "{'a', 'b', 'c'}"
      ]
     },
     "execution_count": 40,
     "metadata": {},
     "output_type": "execute_result"
    }
   ],
   "source": [
    "alphabets = {\"a\",\"b\",\"c\"}\n",
    "number = {1}\n",
    "\n",
    "alphabets\n",
    "\n"
   ]
  },
  {
   "cell_type": "code",
   "execution_count": 42,
   "id": "9157ed5d",
   "metadata": {},
   "outputs": [
    {
     "data": {
      "text/plain": [
       "{'b': {1}, 'a': {1}, 'c': {1}}"
      ]
     },
     "execution_count": 42,
     "metadata": {},
     "output_type": "execute_result"
    }
   ],
   "source": [
    "dictionary = dict.fromkeys(alphabets,number)\n",
    "dictionary"
   ]
  },
  {
   "cell_type": "code",
   "execution_count": 49,
   "id": "50d68202",
   "metadata": {},
   "outputs": [
    {
     "data": {
      "text/plain": [
       "150"
      ]
     },
     "execution_count": 49,
     "metadata": {},
     "output_type": "execute_result"
    }
   ],
   "source": [
    "#get() function is used to get the value of any key from the dictionary\n",
    "d2.get(\"keyboard\")"
   ]
  },
  {
   "cell_type": "code",
   "execution_count": 50,
   "id": "c06a4792",
   "metadata": {},
   "outputs": [
    {
     "data": {
      "text/plain": [
       "{'mouse': 150,\n",
       " 'keyboard': 150,\n",
       " 'lcd': 1500,\n",
       " 'power cables': 300,\n",
       " 'cpu': 1200,\n",
       " 'pencil': 10,\n",
       " 'eraser': 5,\n",
       " 'pointer': 15,\n",
       " 'remover': 20}"
      ]
     },
     "execution_count": 50,
     "metadata": {},
     "output_type": "execute_result"
    }
   ],
   "source": [
    "d2"
   ]
  },
  {
   "cell_type": "code",
   "execution_count": 55,
   "id": "410cc8ac",
   "metadata": {},
   "outputs": [
    {
     "data": {
      "text/plain": [
       "1200"
      ]
     },
     "execution_count": 55,
     "metadata": {},
     "output_type": "execute_result"
    }
   ],
   "source": [
    "#pop( index ) is used to remove an element by giving an argument of that element's index.\n",
    "d2.pop(\"cpu\")"
   ]
  },
  {
   "cell_type": "code",
   "execution_count": 56,
   "id": "9144addf",
   "metadata": {},
   "outputs": [
    {
     "data": {
      "text/plain": [
       "{'lcd': 1500,\n",
       " 'power cables': 300,\n",
       " 'pencil': 10,\n",
       " 'eraser': 5,\n",
       " 'pointer': 15,\n",
       " 'remover': 20}"
      ]
     },
     "execution_count": 56,
     "metadata": {},
     "output_type": "execute_result"
    }
   ],
   "source": [
    "d2"
   ]
  },
  {
   "cell_type": "code",
   "execution_count": 57,
   "id": "eea298ef",
   "metadata": {},
   "outputs": [
    {
     "data": {
      "text/plain": [
       "('remover', 20)"
      ]
     },
     "execution_count": 57,
     "metadata": {},
     "output_type": "execute_result"
    }
   ],
   "source": [
    "#popitem( ) is used to remove the last element of the dictionary\n",
    "\n",
    "d2.popitem()"
   ]
  },
  {
   "cell_type": "code",
   "execution_count": 58,
   "id": "19ce04fe",
   "metadata": {},
   "outputs": [
    {
     "data": {
      "text/plain": [
       "{'lcd': 1500, 'power cables': 300, 'pencil': 10, 'eraser': 5, 'pointer': 15}"
      ]
     },
     "execution_count": 58,
     "metadata": {},
     "output_type": "execute_result"
    }
   ],
   "source": [
    "d2"
   ]
  },
  {
   "cell_type": "code",
   "execution_count": 61,
   "id": "709db93b",
   "metadata": {},
   "outputs": [
    {
     "data": {
      "text/plain": [
       "300"
      ]
     },
     "execution_count": 61,
     "metadata": {},
     "output_type": "execute_result"
    }
   ],
   "source": [
    "#extract value and to assign value of any element in the dictionary , we use setdefault( ).\n",
    "\n",
    "list2 = d2.setdefault(\"power cables\")\n",
    "list2"
   ]
  },
  {
   "cell_type": "code",
   "execution_count": 60,
   "id": "07f4d117",
   "metadata": {},
   "outputs": [
    {
     "data": {
      "text/plain": [
       "{'lcd': 1500, 'power cables': 300, 'pencil': 10, 'eraser': 5, 'pointer': 15}"
      ]
     },
     "execution_count": 60,
     "metadata": {},
     "output_type": "execute_result"
    }
   ],
   "source": [
    "d2"
   ]
  },
  {
   "cell_type": "markdown",
   "id": "94a574f0",
   "metadata": {},
   "source": [
    "----"
   ]
  },
  {
   "cell_type": "markdown",
   "id": "e6598e46",
   "metadata": {},
   "source": [
    "## 4:  Sets\n"
   ]
  },
  {
   "cell_type": "code",
   "execution_count": null,
   "id": "636dbd33",
   "metadata": {},
   "outputs": [],
   "source": []
  },
  {
   "cell_type": "code",
   "execution_count": null,
   "id": "6377d8b7",
   "metadata": {},
   "outputs": [],
   "source": []
  },
  {
   "cell_type": "code",
   "execution_count": null,
   "id": "5c7dbbbe",
   "metadata": {},
   "outputs": [],
   "source": []
  },
  {
   "cell_type": "code",
   "execution_count": null,
   "id": "6379af99",
   "metadata": {},
   "outputs": [],
   "source": []
  },
  {
   "cell_type": "code",
   "execution_count": null,
   "id": "e50cceb8",
   "metadata": {},
   "outputs": [],
   "source": []
  },
  {
   "cell_type": "code",
   "execution_count": null,
   "id": "789db274",
   "metadata": {},
   "outputs": [],
   "source": []
  },
  {
   "cell_type": "code",
   "execution_count": null,
   "id": "d02812aa",
   "metadata": {},
   "outputs": [],
   "source": []
  }
 ],
 "metadata": {
  "kernelspec": {
   "display_name": "Python 3 (ipykernel)",
   "language": "python",
   "name": "python3"
  },
  "language_info": {
   "codemirror_mode": {
    "name": "ipython",
    "version": 3
   },
   "file_extension": ".py",
   "mimetype": "text/x-python",
   "name": "python",
   "nbconvert_exporter": "python",
   "pygments_lexer": "ipython3",
   "version": "3.9.12"
  }
 },
 "nbformat": 4,
 "nbformat_minor": 5
}
